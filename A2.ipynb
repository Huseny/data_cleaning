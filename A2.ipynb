{
 "cells": [
  {
   "cell_type": "code",
   "execution_count": 2,
   "metadata": {},
   "outputs": [],
   "source": [
    "import pandas as pd\n",
    "from scipy.stats import zscore"
   ]
  },
  {
   "cell_type": "markdown",
   "metadata": {},
   "source": [
    "#### Load the data"
   ]
  },
  {
   "cell_type": "code",
   "execution_count": 3,
   "metadata": {},
   "outputs": [],
   "source": [
    "data = pd.read_csv(\"cleaned_data.csv\")"
   ]
  },
  {
   "cell_type": "markdown",
   "metadata": {},
   "source": [
    "# Step 1: Missing values"
   ]
  },
  {
   "cell_type": "markdown",
   "metadata": {},
   "source": [
    "##### check if missing values exist. if yes, replace them with the mean data"
   ]
  },
  {
   "cell_type": "code",
   "execution_count": 5,
   "metadata": {},
   "outputs": [],
   "source": [
    "missing_values = data.isnull().sum()"
   ]
  },
  {
   "cell_type": "code",
   "execution_count": 7,
   "metadata": {},
   "outputs": [
    {
     "data": {
      "text/plain": [
       "student_id                      0\n",
       "anxiety_level                   1\n",
       "self_esteem                     3\n",
       "mental_health_history           1\n",
       "depression                      3\n",
       "headache                        1\n",
       "blood_pressure                  0\n",
       "sleep_quality                   1\n",
       "breathing_problem               1\n",
       "noise_level                     3\n",
       "living_conditions               4\n",
       "safety                          1\n",
       "basic_needs                     1\n",
       "academic_performance            1\n",
       "study_load                      1\n",
       "teacher_student_relationship    1\n",
       "future_career_concerns          0\n",
       "social_support                  2\n",
       "peer_pressure                   2\n",
       "extracurricular_activities      1\n",
       "bullying                        2\n",
       "stress_level                    2\n",
       "dtype: int64"
      ]
     },
     "execution_count": 7,
     "metadata": {},
     "output_type": "execute_result"
    }
   ],
   "source": [
    "missing_values"
   ]
  },
  {
   "cell_type": "markdown",
   "metadata": {},
   "source": [
    "##### For the first column, since the data type isn't integer, we can't replace it with the mean. rather we give it a unique identifier"
   ]
  },
  {
   "cell_type": "code",
   "execution_count": 12,
   "metadata": {},
   "outputs": [],
   "source": [
    "if data.iloc[:, 0].isnull().any():\n",
    "    last_index = data.index[-1]\n",
    "    data.iloc[:, 0].fillna(f'student_unknown_{last_index}', inplace=True)"
   ]
  },
  {
   "cell_type": "markdown",
   "metadata": {},
   "source": [
    "##### For numeric columns, we replace null values with the data mean"
   ]
  },
  {
   "cell_type": "code",
   "execution_count": 13,
   "metadata": {},
   "outputs": [],
   "source": [
    "numeric_columns = data.select_dtypes(include='number').columns\n",
    "data[numeric_columns] = data[numeric_columns].fillna(data[numeric_columns].mean())"
   ]
  },
  {
   "cell_type": "markdown",
   "metadata": {},
   "source": [
    "##### Check if all missing values are filled"
   ]
  },
  {
   "cell_type": "code",
   "execution_count": 14,
   "metadata": {},
   "outputs": [
    {
     "data": {
      "text/plain": [
       "student_id                      0\n",
       "anxiety_level                   0\n",
       "self_esteem                     0\n",
       "mental_health_history           0\n",
       "depression                      0\n",
       "headache                        0\n",
       "blood_pressure                  0\n",
       "sleep_quality                   0\n",
       "breathing_problem               0\n",
       "noise_level                     0\n",
       "living_conditions               0\n",
       "safety                          0\n",
       "basic_needs                     0\n",
       "academic_performance            0\n",
       "study_load                      0\n",
       "teacher_student_relationship    0\n",
       "future_career_concerns          0\n",
       "social_support                  0\n",
       "peer_pressure                   0\n",
       "extracurricular_activities      0\n",
       "bullying                        0\n",
       "stress_level                    0\n",
       "dtype: int64"
      ]
     },
     "execution_count": 14,
     "metadata": {},
     "output_type": "execute_result"
    }
   ],
   "source": [
    "data.isnull().sum()"
   ]
  },
  {
   "cell_type": "markdown",
   "metadata": {},
   "source": [
    "# Step 2: Outliers"
   ]
  },
  {
   "cell_type": "markdown",
   "metadata": {},
   "source": [
    "#### Identify and handle outliers using Z-scores"
   ]
  },
  {
   "cell_type": "code",
   "execution_count": 17,
   "metadata": {},
   "outputs": [
    {
     "data": {
      "text/html": [
       "<div>\n",
       "<style scoped>\n",
       "    .dataframe tbody tr th:only-of-type {\n",
       "        vertical-align: middle;\n",
       "    }\n",
       "\n",
       "    .dataframe tbody tr th {\n",
       "        vertical-align: top;\n",
       "    }\n",
       "\n",
       "    .dataframe thead th {\n",
       "        text-align: right;\n",
       "    }\n",
       "</style>\n",
       "<table border=\"1\" class=\"dataframe\">\n",
       "  <thead>\n",
       "    <tr style=\"text-align: right;\">\n",
       "      <th></th>\n",
       "      <th>anxiety_level</th>\n",
       "      <th>self_esteem</th>\n",
       "      <th>mental_health_history</th>\n",
       "      <th>depression</th>\n",
       "      <th>headache</th>\n",
       "      <th>blood_pressure</th>\n",
       "      <th>sleep_quality</th>\n",
       "      <th>breathing_problem</th>\n",
       "      <th>noise_level</th>\n",
       "      <th>living_conditions</th>\n",
       "      <th>...</th>\n",
       "      <th>basic_needs</th>\n",
       "      <th>academic_performance</th>\n",
       "      <th>study_load</th>\n",
       "      <th>teacher_student_relationship</th>\n",
       "      <th>future_career_concerns</th>\n",
       "      <th>social_support</th>\n",
       "      <th>peer_pressure</th>\n",
       "      <th>extracurricular_activities</th>\n",
       "      <th>bullying</th>\n",
       "      <th>stress_level</th>\n",
       "    </tr>\n",
       "  </thead>\n",
       "  <tbody>\n",
       "    <tr>\n",
       "      <th>0</th>\n",
       "      <td>0.479700</td>\n",
       "      <td>0.249367</td>\n",
       "      <td>-0.986892</td>\n",
       "      <td>-0.201464</td>\n",
       "      <td>-0.361091</td>\n",
       "      <td>-1.418416</td>\n",
       "      <td>-0.427645</td>\n",
       "      <td>0.891343</td>\n",
       "      <td>-0.486888</td>\n",
       "      <td>0.429982</td>\n",
       "      <td>...</td>\n",
       "      <td>-0.538374</td>\n",
       "      <td>0.162353</td>\n",
       "      <td>-0.472082</td>\n",
       "      <td>0.256096</td>\n",
       "      <td>0.229550</td>\n",
       "      <td>0.113140</td>\n",
       "      <td>0.187015</td>\n",
       "      <td>0.163230</td>\n",
       "      <td>-0.403101</td>\n",
       "      <td>0.006663</td>\n",
       "    </tr>\n",
       "    <tr>\n",
       "      <th>1</th>\n",
       "      <td>0.643271</td>\n",
       "      <td>-1.093238</td>\n",
       "      <td>1.014204</td>\n",
       "      <td>0.317634</td>\n",
       "      <td>1.768635</td>\n",
       "      <td>0.981981</td>\n",
       "      <td>-1.074112</td>\n",
       "      <td>0.891343</td>\n",
       "      <td>0.268580</td>\n",
       "      <td>-1.358483</td>\n",
       "      <td>...</td>\n",
       "      <td>-0.538374</td>\n",
       "      <td>-1.253723</td>\n",
       "      <td>1.049379</td>\n",
       "      <td>-1.190946</td>\n",
       "      <td>1.537869</td>\n",
       "      <td>-0.842454</td>\n",
       "      <td>0.890241</td>\n",
       "      <td>1.575744</td>\n",
       "      <td>1.558221</td>\n",
       "      <td>1.225905</td>\n",
       "    </tr>\n",
       "    <tr>\n",
       "      <th>2</th>\n",
       "      <td>0.152557</td>\n",
       "      <td>0.025600</td>\n",
       "      <td>1.014204</td>\n",
       "      <td>0.187859</td>\n",
       "      <td>-0.361091</td>\n",
       "      <td>-1.418416</td>\n",
       "      <td>-0.427645</td>\n",
       "      <td>-0.537666</td>\n",
       "      <td>-0.486888</td>\n",
       "      <td>-0.464250</td>\n",
       "      <td>...</td>\n",
       "      <td>-0.538374</td>\n",
       "      <td>-0.545685</td>\n",
       "      <td>0.288649</td>\n",
       "      <td>0.256096</td>\n",
       "      <td>-0.424609</td>\n",
       "      <td>0.113140</td>\n",
       "      <td>0.187015</td>\n",
       "      <td>-0.543028</td>\n",
       "      <td>-0.403101</td>\n",
       "      <td>0.006663</td>\n",
       "    </tr>\n",
       "    <tr>\n",
       "      <th>3</th>\n",
       "      <td>0.806842</td>\n",
       "      <td>-0.645703</td>\n",
       "      <td>1.014204</td>\n",
       "      <td>0.317634</td>\n",
       "      <td>1.058726</td>\n",
       "      <td>0.981981</td>\n",
       "      <td>-1.074112</td>\n",
       "      <td>0.176838</td>\n",
       "      <td>1.024048</td>\n",
       "      <td>-0.464250</td>\n",
       "      <td>...</td>\n",
       "      <td>-0.538374</td>\n",
       "      <td>-0.545685</td>\n",
       "      <td>1.049379</td>\n",
       "      <td>-1.190946</td>\n",
       "      <td>0.883709</td>\n",
       "      <td>-0.842454</td>\n",
       "      <td>0.890241</td>\n",
       "      <td>0.869487</td>\n",
       "      <td>1.558221</td>\n",
       "      <td>1.225905</td>\n",
       "    </tr>\n",
       "    <tr>\n",
       "      <th>4</th>\n",
       "      <td>0.806842</td>\n",
       "      <td>1.144438</td>\n",
       "      <td>-0.986892</td>\n",
       "      <td>-0.720562</td>\n",
       "      <td>-0.361091</td>\n",
       "      <td>0.981981</td>\n",
       "      <td>1.511757</td>\n",
       "      <td>-1.252171</td>\n",
       "      <td>0.268580</td>\n",
       "      <td>-0.464250</td>\n",
       "      <td>...</td>\n",
       "      <td>0.160177</td>\n",
       "      <td>0.870391</td>\n",
       "      <td>0.288649</td>\n",
       "      <td>-1.190946</td>\n",
       "      <td>-0.424609</td>\n",
       "      <td>-0.842454</td>\n",
       "      <td>1.593467</td>\n",
       "      <td>-1.955542</td>\n",
       "      <td>1.558221</td>\n",
       "      <td>0.006663</td>\n",
       "    </tr>\n",
       "  </tbody>\n",
       "</table>\n",
       "<p>5 rows × 21 columns</p>\n",
       "</div>"
      ],
      "text/plain": [
       "   anxiety_level  self_esteem  mental_health_history  depression  headache  \\\n",
       "0       0.479700     0.249367              -0.986892   -0.201464 -0.361091   \n",
       "1       0.643271    -1.093238               1.014204    0.317634  1.768635   \n",
       "2       0.152557     0.025600               1.014204    0.187859 -0.361091   \n",
       "3       0.806842    -0.645703               1.014204    0.317634  1.058726   \n",
       "4       0.806842     1.144438              -0.986892   -0.720562 -0.361091   \n",
       "\n",
       "   blood_pressure  sleep_quality  breathing_problem  noise_level  \\\n",
       "0       -1.418416      -0.427645           0.891343    -0.486888   \n",
       "1        0.981981      -1.074112           0.891343     0.268580   \n",
       "2       -1.418416      -0.427645          -0.537666    -0.486888   \n",
       "3        0.981981      -1.074112           0.176838     1.024048   \n",
       "4        0.981981       1.511757          -1.252171     0.268580   \n",
       "\n",
       "   living_conditions  ...  basic_needs  academic_performance  study_load  \\\n",
       "0           0.429982  ...    -0.538374              0.162353   -0.472082   \n",
       "1          -1.358483  ...    -0.538374             -1.253723    1.049379   \n",
       "2          -0.464250  ...    -0.538374             -0.545685    0.288649   \n",
       "3          -0.464250  ...    -0.538374             -0.545685    1.049379   \n",
       "4          -0.464250  ...     0.160177              0.870391    0.288649   \n",
       "\n",
       "   teacher_student_relationship  future_career_concerns  social_support  \\\n",
       "0                      0.256096                0.229550        0.113140   \n",
       "1                     -1.190946                1.537869       -0.842454   \n",
       "2                      0.256096               -0.424609        0.113140   \n",
       "3                     -1.190946                0.883709       -0.842454   \n",
       "4                     -1.190946               -0.424609       -0.842454   \n",
       "\n",
       "   peer_pressure  extracurricular_activities  bullying  stress_level  \n",
       "0       0.187015                    0.163230 -0.403101      0.006663  \n",
       "1       0.890241                    1.575744  1.558221      1.225905  \n",
       "2       0.187015                   -0.543028 -0.403101      0.006663  \n",
       "3       0.890241                    0.869487  1.558221      1.225905  \n",
       "4       1.593467                   -1.955542  1.558221      0.006663  \n",
       "\n",
       "[5 rows x 21 columns]"
      ]
     },
     "execution_count": 17,
     "metadata": {},
     "output_type": "execute_result"
    }
   ],
   "source": [
    "z_scores = zscore(data[numeric_columns])\n",
    "z_scores.head()"
   ]
  },
  {
   "cell_type": "code",
   "execution_count": 36,
   "metadata": {},
   "outputs": [
    {
     "data": {
      "text/plain": [
       "190    False\n",
       "191    False\n",
       "192    False\n",
       "193    False\n",
       "194    False\n",
       "195    False\n",
       "196    False\n",
       "197    False\n",
       "198    False\n",
       "199    False\n",
       "200    False\n",
       "201    False\n",
       "202    False\n",
       "203    False\n",
       "204    False\n",
       "205    False\n",
       "206    False\n",
       "207    False\n",
       "208    False\n",
       "209    False\n",
       "dtype: bool"
      ]
     },
     "execution_count": 36,
     "metadata": {},
     "output_type": "execute_result"
    }
   ],
   "source": [
    "outliers = (abs(z_scores) > 3).all(axis=1)\n",
    "outliers[190:210]"
   ]
  },
  {
   "cell_type": "code",
   "execution_count": 19,
   "metadata": {},
   "outputs": [],
   "source": [
    "data = data[~outliers]"
   ]
  }
 ],
 "metadata": {
  "kernelspec": {
   "display_name": "Python 3",
   "language": "python",
   "name": "python3"
  },
  "language_info": {
   "codemirror_mode": {
    "name": "ipython",
    "version": 3
   },
   "file_extension": ".py",
   "mimetype": "text/x-python",
   "name": "python",
   "nbconvert_exporter": "python",
   "pygments_lexer": "ipython3",
   "version": "3.10.12"
  }
 },
 "nbformat": 4,
 "nbformat_minor": 2
}
