{
 "cells": [
  {
   "cell_type": "code",
   "execution_count": 94,
   "metadata": {},
   "outputs": [],
   "source": [
    "import pandas as pd\n",
    "from scipy.stats import zscore"
   ]
  },
  {
   "cell_type": "markdown",
   "metadata": {},
   "source": [
    "#### Load the data"
   ]
  },
  {
   "cell_type": "code",
   "execution_count": 95,
   "metadata": {},
   "outputs": [
    {
     "data": {
      "text/html": [
       "<div>\n",
       "<style scoped>\n",
       "    .dataframe tbody tr th:only-of-type {\n",
       "        vertical-align: middle;\n",
       "    }\n",
       "\n",
       "    .dataframe tbody tr th {\n",
       "        vertical-align: top;\n",
       "    }\n",
       "\n",
       "    .dataframe thead th {\n",
       "        text-align: right;\n",
       "    }\n",
       "</style>\n",
       "<table border=\"1\" class=\"dataframe\">\n",
       "  <thead>\n",
       "    <tr style=\"text-align: right;\">\n",
       "      <th></th>\n",
       "      <th>student_id</th>\n",
       "      <th>anxiety_level</th>\n",
       "      <th>self_esteem</th>\n",
       "      <th>mental_health_history</th>\n",
       "      <th>depression</th>\n",
       "      <th>headache</th>\n",
       "      <th>blood_pressure</th>\n",
       "      <th>sleep_quality</th>\n",
       "      <th>breathing_problem</th>\n",
       "      <th>noise_level</th>\n",
       "      <th>...</th>\n",
       "      <th>basic_needs</th>\n",
       "      <th>academic_performance</th>\n",
       "      <th>study_load</th>\n",
       "      <th>teacher_student_relationship</th>\n",
       "      <th>future_career_concerns</th>\n",
       "      <th>social_support</th>\n",
       "      <th>peer_pressure</th>\n",
       "      <th>extracurricular_activities</th>\n",
       "      <th>bullying</th>\n",
       "      <th>stress_level</th>\n",
       "    </tr>\n",
       "  </thead>\n",
       "  <tbody>\n",
       "    <tr>\n",
       "      <th>0</th>\n",
       "      <td>student_0</td>\n",
       "      <td>14.0</td>\n",
       "      <td>20.0</td>\n",
       "      <td>0.0</td>\n",
       "      <td>11.0</td>\n",
       "      <td>2.0</td>\n",
       "      <td>1</td>\n",
       "      <td>2.0</td>\n",
       "      <td>4.0</td>\n",
       "      <td>2.0</td>\n",
       "      <td>...</td>\n",
       "      <td>2.0</td>\n",
       "      <td>3.0</td>\n",
       "      <td>2.0</td>\n",
       "      <td>3.0</td>\n",
       "      <td>3</td>\n",
       "      <td>2.0</td>\n",
       "      <td>3.0</td>\n",
       "      <td>3.0</td>\n",
       "      <td>2.0</td>\n",
       "      <td>1.0</td>\n",
       "    </tr>\n",
       "    <tr>\n",
       "      <th>1</th>\n",
       "      <td>student_1</td>\n",
       "      <td>15.0</td>\n",
       "      <td>8.0</td>\n",
       "      <td>1.0</td>\n",
       "      <td>15.0</td>\n",
       "      <td>5.0</td>\n",
       "      <td>3</td>\n",
       "      <td>1.0</td>\n",
       "      <td>4.0</td>\n",
       "      <td>3.0</td>\n",
       "      <td>...</td>\n",
       "      <td>2.0</td>\n",
       "      <td>1.0</td>\n",
       "      <td>4.0</td>\n",
       "      <td>1.0</td>\n",
       "      <td>5</td>\n",
       "      <td>1.0</td>\n",
       "      <td>4.0</td>\n",
       "      <td>5.0</td>\n",
       "      <td>5.0</td>\n",
       "      <td>2.0</td>\n",
       "    </tr>\n",
       "    <tr>\n",
       "      <th>2</th>\n",
       "      <td>student_2</td>\n",
       "      <td>12.0</td>\n",
       "      <td>18.0</td>\n",
       "      <td>1.0</td>\n",
       "      <td>14.0</td>\n",
       "      <td>2.0</td>\n",
       "      <td>1</td>\n",
       "      <td>2.0</td>\n",
       "      <td>2.0</td>\n",
       "      <td>2.0</td>\n",
       "      <td>...</td>\n",
       "      <td>2.0</td>\n",
       "      <td>2.0</td>\n",
       "      <td>3.0</td>\n",
       "      <td>3.0</td>\n",
       "      <td>2</td>\n",
       "      <td>2.0</td>\n",
       "      <td>3.0</td>\n",
       "      <td>2.0</td>\n",
       "      <td>2.0</td>\n",
       "      <td>1.0</td>\n",
       "    </tr>\n",
       "    <tr>\n",
       "      <th>3</th>\n",
       "      <td>student_3</td>\n",
       "      <td>16.0</td>\n",
       "      <td>12.0</td>\n",
       "      <td>1.0</td>\n",
       "      <td>15.0</td>\n",
       "      <td>4.0</td>\n",
       "      <td>3</td>\n",
       "      <td>1.0</td>\n",
       "      <td>3.0</td>\n",
       "      <td>4.0</td>\n",
       "      <td>...</td>\n",
       "      <td>2.0</td>\n",
       "      <td>2.0</td>\n",
       "      <td>4.0</td>\n",
       "      <td>1.0</td>\n",
       "      <td>4</td>\n",
       "      <td>1.0</td>\n",
       "      <td>4.0</td>\n",
       "      <td>4.0</td>\n",
       "      <td>5.0</td>\n",
       "      <td>2.0</td>\n",
       "    </tr>\n",
       "    <tr>\n",
       "      <th>4</th>\n",
       "      <td>student_4</td>\n",
       "      <td>16.0</td>\n",
       "      <td>28.0</td>\n",
       "      <td>0.0</td>\n",
       "      <td>7.0</td>\n",
       "      <td>2.0</td>\n",
       "      <td>3</td>\n",
       "      <td>5.0</td>\n",
       "      <td>1.0</td>\n",
       "      <td>3.0</td>\n",
       "      <td>...</td>\n",
       "      <td>3.0</td>\n",
       "      <td>4.0</td>\n",
       "      <td>3.0</td>\n",
       "      <td>1.0</td>\n",
       "      <td>2</td>\n",
       "      <td>1.0</td>\n",
       "      <td>5.0</td>\n",
       "      <td>0.0</td>\n",
       "      <td>5.0</td>\n",
       "      <td>1.0</td>\n",
       "    </tr>\n",
       "  </tbody>\n",
       "</table>\n",
       "<p>5 rows × 22 columns</p>\n",
       "</div>"
      ],
      "text/plain": [
       "  student_id  anxiety_level  self_esteem  mental_health_history  depression  \\\n",
       "0  student_0           14.0         20.0                    0.0        11.0   \n",
       "1  student_1           15.0          8.0                    1.0        15.0   \n",
       "2  student_2           12.0         18.0                    1.0        14.0   \n",
       "3  student_3           16.0         12.0                    1.0        15.0   \n",
       "4  student_4           16.0         28.0                    0.0         7.0   \n",
       "\n",
       "   headache  blood_pressure  sleep_quality  breathing_problem  noise_level  \\\n",
       "0       2.0               1            2.0                4.0          2.0   \n",
       "1       5.0               3            1.0                4.0          3.0   \n",
       "2       2.0               1            2.0                2.0          2.0   \n",
       "3       4.0               3            1.0                3.0          4.0   \n",
       "4       2.0               3            5.0                1.0          3.0   \n",
       "\n",
       "   ...  basic_needs  academic_performance  study_load  \\\n",
       "0  ...          2.0                   3.0         2.0   \n",
       "1  ...          2.0                   1.0         4.0   \n",
       "2  ...          2.0                   2.0         3.0   \n",
       "3  ...          2.0                   2.0         4.0   \n",
       "4  ...          3.0                   4.0         3.0   \n",
       "\n",
       "   teacher_student_relationship  future_career_concerns  social_support  \\\n",
       "0                           3.0                       3             2.0   \n",
       "1                           1.0                       5             1.0   \n",
       "2                           3.0                       2             2.0   \n",
       "3                           1.0                       4             1.0   \n",
       "4                           1.0                       2             1.0   \n",
       "\n",
       "   peer_pressure  extracurricular_activities  bullying  stress_level  \n",
       "0            3.0                         3.0       2.0           1.0  \n",
       "1            4.0                         5.0       5.0           2.0  \n",
       "2            3.0                         2.0       2.0           1.0  \n",
       "3            4.0                         4.0       5.0           2.0  \n",
       "4            5.0                         0.0       5.0           1.0  \n",
       "\n",
       "[5 rows x 22 columns]"
      ]
     },
     "execution_count": 95,
     "metadata": {},
     "output_type": "execute_result"
    }
   ],
   "source": [
    "data = pd.read_csv(\"cleaned_data.csv\")\n",
    "data.head()"
   ]
  },
  {
   "cell_type": "markdown",
   "metadata": {},
   "source": [
    "# Step 1: Missing values"
   ]
  },
  {
   "cell_type": "markdown",
   "metadata": {},
   "source": [
    "##### check if missing values exist. if yes, replace them with the mean data"
   ]
  },
  {
   "cell_type": "code",
   "execution_count": 96,
   "metadata": {},
   "outputs": [],
   "source": [
    "missing_values = data.isnull().sum()"
   ]
  },
  {
   "cell_type": "markdown",
   "metadata": {},
   "source": [
    "### Before handling missing values"
   ]
  },
  {
   "cell_type": "code",
   "execution_count": 97,
   "metadata": {},
   "outputs": [
    {
     "data": {
      "text/plain": [
       "student_id                      0\n",
       "anxiety_level                   1\n",
       "self_esteem                     3\n",
       "mental_health_history           1\n",
       "depression                      3\n",
       "headache                        1\n",
       "blood_pressure                  0\n",
       "sleep_quality                   1\n",
       "breathing_problem               1\n",
       "noise_level                     3\n",
       "living_conditions               4\n",
       "safety                          1\n",
       "basic_needs                     1\n",
       "academic_performance            1\n",
       "study_load                      1\n",
       "teacher_student_relationship    1\n",
       "future_career_concerns          0\n",
       "social_support                  2\n",
       "peer_pressure                   2\n",
       "extracurricular_activities      1\n",
       "bullying                        2\n",
       "stress_level                    2\n",
       "dtype: int64"
      ]
     },
     "execution_count": 97,
     "metadata": {},
     "output_type": "execute_result"
    }
   ],
   "source": [
    "missing_values"
   ]
  },
  {
   "cell_type": "markdown",
   "metadata": {},
   "source": [
    "##### For the first column, since the data type isn't integer, we can't replace it with the mean. rather we give it a unique identifier"
   ]
  },
  {
   "cell_type": "code",
   "execution_count": 98,
   "metadata": {},
   "outputs": [],
   "source": [
    "if data.iloc[:, 0].isnull().any():\n",
    "    last_index = data.index[-1]\n",
    "    data.iloc[:, 0].fillna(f'student_unknown_{last_index}', inplace=True)"
   ]
  },
  {
   "cell_type": "markdown",
   "metadata": {},
   "source": [
    "##### For numeric columns, we replace null values with the data mean"
   ]
  },
  {
   "cell_type": "code",
   "execution_count": 99,
   "metadata": {},
   "outputs": [],
   "source": [
    "numeric_columns = data.select_dtypes(include='number').columns\n",
    "data[numeric_columns] = data[numeric_columns].fillna(data[numeric_columns].mean())"
   ]
  },
  {
   "cell_type": "markdown",
   "metadata": {},
   "source": [
    "##### Check if all missing values are filled"
   ]
  },
  {
   "cell_type": "code",
   "execution_count": 100,
   "metadata": {},
   "outputs": [
    {
     "data": {
      "text/plain": [
       "student_id                      0\n",
       "anxiety_level                   0\n",
       "self_esteem                     0\n",
       "mental_health_history           0\n",
       "depression                      0\n",
       "headache                        0\n",
       "blood_pressure                  0\n",
       "sleep_quality                   0\n",
       "breathing_problem               0\n",
       "noise_level                     0\n",
       "living_conditions               0\n",
       "safety                          0\n",
       "basic_needs                     0\n",
       "academic_performance            0\n",
       "study_load                      0\n",
       "teacher_student_relationship    0\n",
       "future_career_concerns          0\n",
       "social_support                  0\n",
       "peer_pressure                   0\n",
       "extracurricular_activities      0\n",
       "bullying                        0\n",
       "stress_level                    0\n",
       "dtype: int64"
      ]
     },
     "execution_count": 100,
     "metadata": {},
     "output_type": "execute_result"
    }
   ],
   "source": [
    "data.isnull().sum()"
   ]
  },
  {
   "cell_type": "markdown",
   "metadata": {},
   "source": [
    "# Step 2: Outliers"
   ]
  },
  {
   "cell_type": "markdown",
   "metadata": {},
   "source": [
    "#### Identify and handle outliers using Z-scores"
   ]
  },
  {
   "cell_type": "code",
   "execution_count": 101,
   "metadata": {},
   "outputs": [],
   "source": [
    "import numpy as np"
   ]
  },
  {
   "cell_type": "code",
   "execution_count": 102,
   "metadata": {},
   "outputs": [],
   "source": [
    "column_name = \"self_esteem\""
   ]
  },
  {
   "cell_type": "markdown",
   "metadata": {},
   "source": [
    "### Before handling outliers"
   ]
  },
  {
   "cell_type": "code",
   "execution_count": 108,
   "metadata": {},
   "outputs": [
    {
     "name": "stdout",
     "output_type": "stream",
     "text": [
      "count    1100.000000\n",
      "mean       17.906392\n",
      "std         9.415475\n",
      "min         0.000000\n",
      "25%        11.000000\n",
      "50%        19.000000\n",
      "75%        26.000000\n",
      "max       112.000000\n",
      "Name: self_esteem, dtype: float64\n"
     ]
    }
   ],
   "source": [
    "print(data[column_name].describe())"
   ]
  },
  {
   "cell_type": "code",
   "execution_count": 109,
   "metadata": {},
   "outputs": [
    {
     "data": {
      "text/plain": [
       "<AxesSubplot:xlabel='student_id', ylabel='self_esteem'>"
      ]
     },
     "execution_count": 109,
     "metadata": {},
     "output_type": "execute_result"
    },
    {
     "data": {
      "image/png": "[encoded data removed]",
      "text/plain": [
       "<Figure size 2000x1000 with 1 Axes>"
      ]
     },
     "metadata": {},
     "output_type": "display_data"
    }
   ],
   "source": [
    "data.head(100)[[\"student_id\",column_name]].plot(kind='scatter', x='student_id', y=column_name, figsize=(20, 10))"
   ]
  },
  {
   "cell_type": "markdown",
   "metadata": {},
   "source": [
    "#### Calculate the Z_Score"
   ]
  },
  {
   "cell_type": "code",
   "execution_count": 104,
   "metadata": {},
   "outputs": [
    {
     "data": {
      "text/html": [
       "<div>\n",
       "<style scoped>\n",
       "    .dataframe tbody tr th:only-of-type {\n",
       "        vertical-align: middle;\n",
       "    }\n",
       "\n",
       "    .dataframe tbody tr th {\n",
       "        vertical-align: top;\n",
       "    }\n",
       "\n",
       "    .dataframe thead th {\n",
       "        text-align: right;\n",
       "    }\n",
       "</style>\n",
       "<table border=\"1\" class=\"dataframe\">\n",
       "  <thead>\n",
       "    <tr style=\"text-align: right;\">\n",
       "      <th></th>\n",
       "      <th>anxiety_level</th>\n",
       "      <th>self_esteem</th>\n",
       "      <th>mental_health_history</th>\n",
       "      <th>depression</th>\n",
       "      <th>headache</th>\n",
       "      <th>blood_pressure</th>\n",
       "      <th>sleep_quality</th>\n",
       "      <th>breathing_problem</th>\n",
       "      <th>noise_level</th>\n",
       "      <th>living_conditions</th>\n",
       "      <th>...</th>\n",
       "      <th>basic_needs</th>\n",
       "      <th>academic_performance</th>\n",
       "      <th>study_load</th>\n",
       "      <th>teacher_student_relationship</th>\n",
       "      <th>future_career_concerns</th>\n",
       "      <th>social_support</th>\n",
       "      <th>peer_pressure</th>\n",
       "      <th>extracurricular_activities</th>\n",
       "      <th>bullying</th>\n",
       "      <th>stress_level</th>\n",
       "    </tr>\n",
       "  </thead>\n",
       "  <tbody>\n",
       "    <tr>\n",
       "      <th>0</th>\n",
       "      <td>0.479700</td>\n",
       "      <td>0.026068</td>\n",
       "      <td>0.636387</td>\n",
       "      <td>0.201464</td>\n",
       "      <td>0.361015</td>\n",
       "      <td>1.418416</td>\n",
       "      <td>0.427645</td>\n",
       "      <td>0.891343</td>\n",
       "      <td>0.486888</td>\n",
       "      <td>0.429982</td>\n",
       "      <td>...</td>\n",
       "      <td>0.441830</td>\n",
       "      <td>0.126931</td>\n",
       "      <td>0.362662</td>\n",
       "      <td>0.056979</td>\n",
       "      <td>0.220748</td>\n",
       "      <td>0.039128</td>\n",
       "      <td>0.187015</td>\n",
       "      <td>0.163230</td>\n",
       "      <td>0.403101</td>\n",
       "      <td>0.011113</td>\n",
       "    </tr>\n",
       "    <tr>\n",
       "      <th>1</th>\n",
       "      <td>0.643271</td>\n",
       "      <td>0.049511</td>\n",
       "      <td>0.559150</td>\n",
       "      <td>0.317634</td>\n",
       "      <td>1.727172</td>\n",
       "      <td>0.981981</td>\n",
       "      <td>1.074112</td>\n",
       "      <td>0.891343</td>\n",
       "      <td>0.268580</td>\n",
       "      <td>1.358483</td>\n",
       "      <td>...</td>\n",
       "      <td>0.441830</td>\n",
       "      <td>1.141222</td>\n",
       "      <td>0.741397</td>\n",
       "      <td>0.426570</td>\n",
       "      <td>1.512360</td>\n",
       "      <td>0.497899</td>\n",
       "      <td>0.890241</td>\n",
       "      <td>1.575744</td>\n",
       "      <td>1.558221</td>\n",
       "      <td>1.005726</td>\n",
       "    </tr>\n",
       "    <tr>\n",
       "      <th>2</th>\n",
       "      <td>0.152557</td>\n",
       "      <td>0.029975</td>\n",
       "      <td>0.559150</td>\n",
       "      <td>0.187859</td>\n",
       "      <td>0.361015</td>\n",
       "      <td>1.418416</td>\n",
       "      <td>0.427645</td>\n",
       "      <td>0.537666</td>\n",
       "      <td>0.486888</td>\n",
       "      <td>0.464250</td>\n",
       "      <td>...</td>\n",
       "      <td>0.441830</td>\n",
       "      <td>0.507146</td>\n",
       "      <td>0.189368</td>\n",
       "      <td>0.056979</td>\n",
       "      <td>0.425058</td>\n",
       "      <td>0.039128</td>\n",
       "      <td>0.187015</td>\n",
       "      <td>0.543028</td>\n",
       "      <td>0.403101</td>\n",
       "      <td>0.011113</td>\n",
       "    </tr>\n",
       "    <tr>\n",
       "      <th>3</th>\n",
       "      <td>0.806842</td>\n",
       "      <td>0.041696</td>\n",
       "      <td>0.559150</td>\n",
       "      <td>0.317634</td>\n",
       "      <td>1.031110</td>\n",
       "      <td>0.981981</td>\n",
       "      <td>1.074112</td>\n",
       "      <td>0.176838</td>\n",
       "      <td>1.024048</td>\n",
       "      <td>0.464250</td>\n",
       "      <td>...</td>\n",
       "      <td>0.441830</td>\n",
       "      <td>0.507146</td>\n",
       "      <td>0.741397</td>\n",
       "      <td>0.426570</td>\n",
       "      <td>0.866554</td>\n",
       "      <td>0.497899</td>\n",
       "      <td>0.890241</td>\n",
       "      <td>0.869487</td>\n",
       "      <td>1.558221</td>\n",
       "      <td>1.005726</td>\n",
       "    </tr>\n",
       "    <tr>\n",
       "      <th>4</th>\n",
       "      <td>0.806842</td>\n",
       "      <td>0.010439</td>\n",
       "      <td>0.636387</td>\n",
       "      <td>0.720562</td>\n",
       "      <td>0.361015</td>\n",
       "      <td>0.981981</td>\n",
       "      <td>1.511757</td>\n",
       "      <td>1.252171</td>\n",
       "      <td>0.268580</td>\n",
       "      <td>0.464250</td>\n",
       "      <td>...</td>\n",
       "      <td>0.108081</td>\n",
       "      <td>0.761007</td>\n",
       "      <td>0.189368</td>\n",
       "      <td>0.426570</td>\n",
       "      <td>0.425058</td>\n",
       "      <td>0.497899</td>\n",
       "      <td>1.593467</td>\n",
       "      <td>1.955542</td>\n",
       "      <td>1.558221</td>\n",
       "      <td>0.011113</td>\n",
       "    </tr>\n",
       "  </tbody>\n",
       "</table>\n",
       "<p>5 rows × 21 columns</p>\n",
       "</div>"
      ],
      "text/plain": [
       "   anxiety_level  self_esteem  mental_health_history  depression  headache  \\\n",
       "0       0.479700     0.026068               0.636387    0.201464  0.361015   \n",
       "1       0.643271     0.049511               0.559150    0.317634  1.727172   \n",
       "2       0.152557     0.029975               0.559150    0.187859  0.361015   \n",
       "3       0.806842     0.041696               0.559150    0.317634  1.031110   \n",
       "4       0.806842     0.010439               0.636387    0.720562  0.361015   \n",
       "\n",
       "   blood_pressure  sleep_quality  breathing_problem  noise_level  \\\n",
       "0        1.418416       0.427645           0.891343     0.486888   \n",
       "1        0.981981       1.074112           0.891343     0.268580   \n",
       "2        1.418416       0.427645           0.537666     0.486888   \n",
       "3        0.981981       1.074112           0.176838     1.024048   \n",
       "4        0.981981       1.511757           1.252171     0.268580   \n",
       "\n",
       "   living_conditions  ...  basic_needs  academic_performance  study_load  \\\n",
       "0           0.429982  ...     0.441830              0.126931    0.362662   \n",
       "1           1.358483  ...     0.441830              1.141222    0.741397   \n",
       "2           0.464250  ...     0.441830              0.507146    0.189368   \n",
       "3           0.464250  ...     0.441830              0.507146    0.741397   \n",
       "4           0.464250  ...     0.108081              0.761007    0.189368   \n",
       "\n",
       "   teacher_student_relationship  future_career_concerns  social_support  \\\n",
       "0                      0.056979                0.220748        0.039128   \n",
       "1                      0.426570                1.512360        0.497899   \n",
       "2                      0.056979                0.425058        0.039128   \n",
       "3                      0.426570                0.866554        0.497899   \n",
       "4                      0.426570                0.425058        0.497899   \n",
       "\n",
       "   peer_pressure  extracurricular_activities  bullying  stress_level  \n",
       "0       0.187015                    0.163230  0.403101      0.011113  \n",
       "1       0.890241                    1.575744  1.558221      1.005726  \n",
       "2       0.187015                    0.543028  0.403101      0.011113  \n",
       "3       0.890241                    0.869487  1.558221      1.005726  \n",
       "4       1.593467                    1.955542  1.558221      0.011113  \n",
       "\n",
       "[5 rows x 21 columns]"
      ]
     },
     "execution_count": 104,
     "metadata": {},
     "output_type": "execute_result"
    }
   ],
   "source": [
    "z_scores = np.abs(zscore(data[numeric_columns], axis=0))\n",
    "z_scores.head()"
   ]
  },
  {
   "cell_type": "markdown",
   "metadata": {},
   "source": [
    "#### Identify the outliers from the Z_Index"
   ]
  },
  {
   "cell_type": "code",
   "execution_count": 105,
   "metadata": {},
   "outputs": [
    {
     "name": "stdout",
     "output_type": "stream",
     "text": [
      "Indices of outliers: [   9   17  114  125  184  201  204  220  259  274  278  286  290  295\n",
      "  312  313  320  339  344  360  384  393  403  405  437  449  451  475\n",
      "  488  493  511  514  516  520  521  558  571  575  577  583  589  592\n",
      "  607  648  649  675  745  747  752  791  809  815  825  828  829  857\n",
      "  859  861  865  884  887  919  922  946  984  989 1005 1026 1033 1037\n",
      " 1040 1053 1065 1095 1095 1099]\n"
     ]
    }
   ],
   "source": [
    "threshold = 2\n",
    "outliers = np.where(np.abs(z_scores) > threshold)[0]\n",
    "print(\"Indices of outliers:\", outliers)"
   ]
  },
  {
   "cell_type": "markdown",
   "metadata": {},
   "source": [
    "#### Replace the outliers with the median value"
   ]
  },
  {
   "cell_type": "code",
   "execution_count": 106,
   "metadata": {},
   "outputs": [],
   "source": [
    "data[numeric_columns] = np.where(np.abs(z_scores) > threshold, data[numeric_columns].median(), data[numeric_columns])"
   ]
  },
  {
   "cell_type": "markdown",
   "metadata": {},
   "source": [
    "#### After handling outliers"
   ]
  },
  {
   "cell_type": "code",
   "execution_count": 107,
   "metadata": {},
   "outputs": [
    {
     "name": "stdout",
     "output_type": "stream",
     "text": [
      "count    1100.000000\n",
      "mean       17.906392\n",
      "std         9.415475\n",
      "min         0.000000\n",
      "25%        11.000000\n",
      "50%        19.000000\n",
      "75%        26.000000\n",
      "max       112.000000\n",
      "Name: self_esteem, dtype: float64\n"
     ]
    }
   ],
   "source": [
    "print(data[column_name].describe())"
   ]
  },
  {
   "cell_type": "code",
   "execution_count": 110,
   "metadata": {},
   "outputs": [
    {
     "data": {
      "text/plain": [
       "<AxesSubplot:xlabel='student_id', ylabel='self_esteem'>"
      ]
     },
     "execution_count": 110,
     "metadata": {},
     "output_type": "execute_result"
    },
    {
     "data": {
      "image/png": "[encoded data removed]",
      "text/plain": [
       "<Figure size 2000x1000 with 1 Axes>"
      ]
     },
     "metadata": {},
     "output_type": "display_data"
    }
   ],
   "source": [
    "data.head(100)[[\"student_id\",column_name]].plot(kind='scatter', x='student_id', y=column_name, figsize=(20, 10))"
   ]
  },
  {
   "cell_type": "code",
   "execution_count": 115,
   "metadata": {},
   "outputs": [],
   "source": [
    "data.to_csv(\"outliers_handled.csv\", index=False)"
   ]
  }
 ],
 "metadata": {
  "kernelspec": {
   "display_name": "Python 3",
   "language": "python",
   "name": "python3"
  },
  "language_info": {
   "codemirror_mode": {
    "name": "ipython",
    "version": 3
   },
   "file_extension": ".py",
   "mimetype": "text/x-python",
   "name": "python",
   "nbconvert_exporter": "python",
   "pygments_lexer": "ipython3",
   "version": "3.10.12"
  }
 },
 "nbformat": 4,
 "nbformat_minor": 2
}
